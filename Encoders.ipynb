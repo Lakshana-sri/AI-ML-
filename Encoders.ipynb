{
 "cells": [
  {
   "cell_type": "code",
   "execution_count": 3,
   "id": "6aa43843-5cd5-4b3c-9029-8f1f45bcb407",
   "metadata": {},
   "outputs": [
    {
     "name": "stdout",
     "output_type": "stream",
     "text": [
      "First few rows of the dataset:\n",
      "   Patient_ID        State_Name  Age  Gender  Diabetes  Hypertension  Obesity  \\\n",
      "0           1         Rajasthan   42  Female         0             0        1   \n",
      "1           2  Himachal Pradesh   26    Male         0             0        0   \n",
      "2           3             Assam   78    Male         0             0        1   \n",
      "3           4            Odisha   58    Male         1             0        1   \n",
      "4           5         Karnataka   22    Male         0             0        0   \n",
      "\n",
      "   Smoking  Alcohol_Consumption  Diet_Score  Cholesterol_Level  Stress_Level  \\\n",
      "0        1                    0           9                248             4   \n",
      "1        0                    1           4                272             7   \n",
      "2        0                    0           6                268            10   \n",
      "3        0                    0           9                224             1   \n",
      "4        0                    0           5                277             9   \n",
      "\n",
      "   Healthcare_Access  Heart_Attack_History  Health_Insurance  \\\n",
      "0                  0                     0                 0   \n",
      "1                  0                     0                 0   \n",
      "2                  1                     0                 1   \n",
      "3                  1                     1                 0   \n",
      "4                  0                     0                 0   \n",
      "\n",
      "   Heart_Attack_Risk  \n",
      "0                  0  \n",
      "1                  0  \n",
      "2                  0  \n",
      "3                  0  \n",
      "4                  1  \n",
      "Categorical columns identified: ['State_Name', 'Gender']\n"
     ]
    },
    {
     "name": "stdin",
     "output_type": "stream",
     "text": [
      "Choose encoding type ('label' or 'onehot'):  label\n"
     ]
    },
    {
     "name": "stdout",
     "output_type": "stream",
     "text": [
      "Transformed dataset:\n",
      "   Patient_ID  State_Name  Age  Gender  Diabetes  Hypertension  Obesity  \\\n",
      "0           1          11   42       0         0             0        1   \n",
      "1           2           5   26       1         0             0        0   \n",
      "2           3           1   78       1         0             0        1   \n",
      "3           4          10   58       1         1             0        1   \n",
      "4           5           6   22       1         0             0        0   \n",
      "\n",
      "   Smoking  Alcohol_Consumption  Diet_Score  Cholesterol_Level  Stress_Level  \\\n",
      "0        1                    0           9                248             4   \n",
      "1        0                    1           4                272             7   \n",
      "2        0                    0           6                268            10   \n",
      "3        0                    0           9                224             1   \n",
      "4        0                    0           5                277             9   \n",
      "\n",
      "   Healthcare_Access  Heart_Attack_History  Health_Insurance  \\\n",
      "0                  0                     0                 0   \n",
      "1                  0                     0                 0   \n",
      "2                  1                     0                 1   \n",
      "3                  1                     1                 0   \n",
      "4                  0                     0                 0   \n",
      "\n",
      "   Heart_Attack_Risk  \n",
      "0                  0  \n",
      "1                  0  \n",
      "2                  0  \n",
      "3                  0  \n",
      "4                  1  \n"
     ]
    }
   ],
   "source": [
    "import pandas as pd\n",
    "from sklearn.preprocessing import LabelEncoder\n",
    "\n",
    "# Function to identify categorical columns\n",
    "def identify_categorical_columns(df):\n",
    "    return df.select_dtypes(include=['object', 'category']).columns.tolist()\n",
    "\n",
    "# Function that performs Label or One-Hot encoding\n",
    "def encode_categorical_data(df, columns, encoding_type='label'):\n",
    "    if encoding_type not in ['label', 'onehot']:\n",
    "        raise ValueError(\"encoding_type should be either 'label' or 'onehot'\")\n",
    "    \n",
    "    df_encoded = df.copy()\n",
    "    \n",
    "    if encoding_type == 'label':\n",
    "        le = LabelEncoder()\n",
    "        for col in columns:\n",
    "            df_encoded[col] = le.fit_transform(df_encoded[col])\n",
    "    \n",
    "    elif encoding_type == 'onehot':\n",
    "        df_encoded = pd.get_dummies(df_encoded, columns=columns, dtype=float)\n",
    "    \n",
    "    return df_encoded\n",
    "\n",
    "def main():\n",
    "    # Load dataset\n",
    "    df = pd.read_csv('heart.csv')\n",
    "    print(\"First few rows of the dataset:\")\n",
    "    print(df.head())\n",
    "    \n",
    "    # Identify categorical columns\n",
    "    categorical_columns = identify_categorical_columns(df)\n",
    "    print(\"Categorical columns identified:\", categorical_columns)\n",
    "    \n",
    "    # Choose encoding type\n",
    "    encoding_type = input(\"Choose encoding type ('label' or 'onehot'): \").strip().lower()\n",
    "    \n",
    "    # Encode categorical columns\n",
    "    df_encoded = encode_categorical_data(df, categorical_columns, encoding_type)\n",
    "    \n",
    "    # Display the transformed dataset\n",
    "    print(\"Transformed dataset:\")\n",
    "    print(df_encoded.head())\n",
    "\n",
    "if __name__ == \"__main__\":\n",
    "    main()\n"
   ]
  },
  {
   "cell_type": "code",
   "execution_count": null,
   "id": "69b027c0-6b91-4215-8b25-2addfc68d708",
   "metadata": {},
   "outputs": [],
   "source": []
  }
 ],
 "metadata": {
  "kernelspec": {
   "display_name": "Python 3 (ipykernel)",
   "language": "python",
   "name": "python3"
  },
  "language_info": {
   "codemirror_mode": {
    "name": "ipython",
    "version": 3
   },
   "file_extension": ".py",
   "mimetype": "text/x-python",
   "name": "python",
   "nbconvert_exporter": "python",
   "pygments_lexer": "ipython3",
   "version": "3.13.4"
  }
 },
 "nbformat": 4,
 "nbformat_minor": 5
}
